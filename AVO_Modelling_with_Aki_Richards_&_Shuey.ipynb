{
  "nbformat": 4,
  "nbformat_minor": 0,
  "metadata": {
    "colab": {
      "provenance": [],
      "include_colab_link": true
    },
    "kernelspec": {
      "name": "python3",
      "display_name": "Python 3"
    },
    "language_info": {
      "name": "python"
    }
  },
  "cells": [
    {
      "cell_type": "markdown",
      "metadata": {
        "id": "view-in-github",
        "colab_type": "text"
      },
      "source": [
        "<a href=\"https://colab.research.google.com/github/Malona-Hutabarat/AVO-Modelling-with-Aki-Richards-Shuey/blob/main/AVO_Modelling_with_Aki_Richards_%26_Shuey.ipynb\" target=\"_parent\"><img src=\"https://colab.research.google.com/assets/colab-badge.svg\" alt=\"Open In Colab\"/></a>"
      ]
    },
    {
      "cell_type": "code",
      "execution_count": null,
      "metadata": {
        "id": "cRWkVYhfWBh0"
      },
      "outputs": [],
      "source": [
        "import numpy as np\n",
        "import matplotlib.pyplot as plt"
      ]
    },
    {
      "cell_type": "code",
      "source": [
        "#TOP SHALE\n",
        "print('-'*4+'Informasi Top Shale'+'-'*4)\n",
        "vp_w = float(input('Masukkan nilai Vp Top Shale  :\\n'))\n",
        "vs_w = float(input('Masukkan nilai Vs Top Shale :\\n'))\n",
        "r_w = float(input('Masukkan nilai rho Top Shale :\\n'))\n",
        "\n",
        "p_w = (vp_w**2 -2*vs_w**2)/(2*(vp_w**2-vs_w**2))\n",
        "print('Poisson Ratio Top Shale: ', p_w)"
      ],
      "metadata": {
        "colab": {
          "base_uri": "https://localhost:8080/"
        },
        "id": "dDPb8MxBWMS6",
        "outputId": "b61de7fe-48f8-4488-dd4a-a1734167fba0"
      },
      "execution_count": null,
      "outputs": [
        {
          "metadata": {
            "tags": null
          },
          "name": "stdout",
          "output_type": "stream",
          "text": [
            "----Informasi Top Shale----\n"
          ]
        }
      ]
    },
    {
      "cell_type": "code",
      "source": [
        "#SAND\n",
        "print('-'*4+'Informasi Sand'+'-'*4)\n",
        "vp_g = float(input('Masukkan nilai Vp Sand :\\n'))\n",
        "vs_g = float(input('Masukkan nilai Vs Sand :\\n'))\n",
        "r_g = float(input('Masukkan nilai rho Sand :\\n'))\n",
        "\n",
        "p_g = (vp_g**2 -2*vs_g**2)/(2*(vp_g**2-vs_g**2))\n",
        "print('Poisson Ratio Sand: ', p_g)"
      ],
      "metadata": {
        "colab": {
          "base_uri": "https://localhost:8080/"
        },
        "id": "nR6zTSxeWoWF",
        "outputId": "360c1dcb-be27-47a8-f607-2c7f24b741df"
      },
      "execution_count": null,
      "outputs": [
        {
          "output_type": "stream",
          "name": "stdout",
          "text": [
            "----Informasi Sand----\n",
            "Masukkan nilai Vp Sand :\n",
            "6103.12\n",
            "Masukkan nilai Vs Sand :\n",
            "1928.03\n",
            "Masukkan nilai rho Sand :\n",
            "2.00504\n",
            "Poisson Ratio Sand:  0.4445688358555507\n"
          ]
        }
      ]
    },
    {
      "cell_type": "code",
      "source": [
        "#BASE SHALE\n",
        "print('-'*4+'Informasi Base Shale'+'-'*4)\n",
        "vp_s = float(input('Masukkan nilai Vp Base Shale :\\n'))\n",
        "vs_s = float(input('Masukkan nilai Vs Base Shale :\\n'))\n",
        "r_s = float(input('Masukkan nilai rho Base Shale :\\n'))\n",
        "\n",
        "p_s = (vp_s**2 -2*vs_s**2)/(2*(vp_s**2-vs_s**2))\n",
        "print('Poisson Ratio Base Shale: ', p_s)"
      ],
      "metadata": {
        "colab": {
          "base_uri": "https://localhost:8080/"
        },
        "id": "1rQTG3KcW-9u",
        "outputId": "a64fbc7f-41cd-4436-bd92-96f6fcad8142"
      },
      "execution_count": null,
      "outputs": [
        {
          "output_type": "stream",
          "name": "stdout",
          "text": [
            "----Informasi Base Shale----\n",
            "Masukkan nilai Vp Base Shale :\n",
            "5766.91\n",
            "Masukkan nilai Vs Base Shale :\n",
            "1699.49\n",
            "Masukkan nilai rho Base Shale :\n",
            "2.01171\n",
            "Poisson Ratio Base Shale:  0.4524471053317553\n"
          ]
        }
      ]
    },
    {
      "cell_type": "code",
      "source": [
        "print('-'*4+'Kalkulasi Wet Sand'+'-'*4)\n",
        "\n",
        "d_vp_w = vp_w - vp_s\n",
        "vp_w_0 = (vp_w + vp_s)/2\n",
        "\n",
        "print('ΔVp : ', d_vp_w)\n",
        "print('Vp : ', vp_w_0)\n",
        "print('ΔVp/Vp : ', d_vp_w/vp_w)\n",
        "print()\n",
        "\n",
        "d_vs_w = vs_w - vs_s\n",
        "vs_w_0 = (vs_w + vs_s)/2\n",
        "\n",
        "print('ΔVs : ', d_vs_w)\n",
        "print('Vs : ', vs_w_0)\n",
        "print('ΔVs/Vs : ', d_vs_w/vs_w)\n",
        "print()\n",
        "\n",
        "d_r_w = r_w - r_s\n",
        "r_w_0 = (r_w + r_s)/2\n",
        "\n",
        "print('Δρ : ', d_r_w)\n",
        "print('ρ : ', r_w_0)\n",
        "print('Δρ/ρ : ', d_r_w/r_w)\n",
        "\n",
        "d_p_w = p_w - p_s\n",
        "p_w_0 = (p_w - p_s)/2\n",
        "\n",
        "print('Δσ : ', d_p_w )\n",
        "print('σ : ', p_w_0)\n",
        "print('Δσ/σ : ', d_p_w/p_w_0)\n",
        "print()\n",
        "\n",
        "D_w = (d_vp_w/vp_w_0)/(d_vp_w/vp_w_0 + d_r_w/r_w_0)\n",
        "print('D :', D_w)"
      ],
      "metadata": {
        "colab": {
          "base_uri": "https://localhost:8080/"
        },
        "id": "Avp_oxdSXSYZ",
        "outputId": "969c8411-3f02-4861-886b-578698f4427b"
      },
      "execution_count": null,
      "outputs": [
        {
          "output_type": "stream",
          "name": "stdout",
          "text": [
            "----Kalkulasi Wet Sand----\n",
            "ΔVp :  -163.82999999999993\n",
            "Vp :  5684.995\n",
            "ΔVp/Vp :  -0.02923927554130941\n",
            "\n",
            "ΔVs :  -107.25\n",
            "Vs :  1645.865\n",
            "ΔVs/Vs :  -0.06735793598954931\n",
            "\n",
            "Δρ :  0.004240000000000244\n",
            "ρ :  2.01383\n",
            "Δρ/ρ :  0.002103226766536989\n",
            "Δσ :  0.0036289219022867525\n",
            "σ :  0.0018144609511433762\n",
            "Δσ/σ :  2.0\n",
            "\n",
            "D : 1.0788184854961247\n"
          ]
        }
      ]
    },
    {
      "cell_type": "code",
      "source": [
        "print('-'*4+'Kalkulasi Gas Sand'+'-'*4)\n",
        "\n",
        "d_vp_g = vp_g - vp_s\n",
        "vp_g_0 = (vp_g + vp_s)/2\n",
        "\n",
        "print('ΔVp : ', d_vp_g)\n",
        "print('Vp : ', vp_g_0 )\n",
        "print('ΔVp/Vp : ', d_vp_g/vp_g,2)\n",
        "print()\n",
        "\n",
        "d_vs_g = vs_g - vs_s\n",
        "vs_g_0 = (vs_g + vs_s)/2\n",
        "\n",
        "print('ΔVs : ', d_vs_g)\n",
        "print('Vs : ', vs_g_0)\n",
        "print('ΔVs/Vs : ', d_vs_g/vs_g)\n",
        "print()\n",
        "\n",
        "d_r_g = (r_g - r_s)\n",
        "r_g_0 = (r_g + r_s)/2\n",
        "\n",
        "print('Δρ : ', d_r_g)\n",
        "print('ρ : ', r_g_0)\n",
        "print('Δρ/ρ : ', d_r_g/r_g)\n",
        "\n",
        "d_p_g = p_g - p_s\n",
        "p_g_0 = (p_g - p_s)/2\n",
        "\n",
        "print('Δσ : ', d_p_g )\n",
        "print('σ : ', p_g_0)\n",
        "print('Δσ/σ : ', d_p_g/p_g_0)\n",
        "print()\n",
        "\n",
        "D_g = (d_vp_g/vp_g_0)/(d_vp_g/vp_g_0 + d_r_g/r_g_0)\n",
        "print('D :', D_g)\n"
      ],
      "metadata": {
        "colab": {
          "base_uri": "https://localhost:8080/"
        },
        "id": "tB4SwPQGaCIm",
        "outputId": "9d139d2a-582c-405f-adde-316c4ea6e7c2"
      },
      "execution_count": null,
      "outputs": [
        {
          "output_type": "stream",
          "name": "stdout",
          "text": [
            "----Kalkulasi Gas Sand----\n",
            "ΔVp :  336.21000000000004\n",
            "Vp :  5935.014999999999\n",
            "ΔVp/Vp :  0.05508821717416666 2\n",
            "\n",
            "ΔVs :  228.53999999999996\n",
            "Vs :  1813.76\n",
            "ΔVs/Vs :  0.11853549996628682\n",
            "\n",
            "Δρ :  -0.006669999999999732\n",
            "ρ :  2.008375\n",
            "Δρ/ρ :  -0.0033266169253479885\n",
            "Δσ :  -0.007878269476204625\n",
            "σ :  -0.003939134738102312\n",
            "Δσ/σ :  2.0\n",
            "\n",
            "D : 1.0622773528357865\n"
          ]
        }
      ]
    },
    {
      "cell_type": "markdown",
      "source": [
        "**Wet Sand Model**"
      ],
      "metadata": {
        "id": "XS0AffHjC10I"
      }
    },
    {
      "cell_type": "code",
      "source": [
        "d_vp = d_vp_w\n",
        "vp = vp_w_0\n",
        "d_vs = d_vs_w\n",
        "vs = vs_w_0\n",
        "d_r = d_r_w\n",
        "r = r_w_0\n",
        "D = D_w\n",
        "p = p_w\n",
        "d_p = d_p_w\n",
        "\n",
        "#Perhitungan Aki Richard\n",
        "A1 = (1/2)*(d_vp/vp + d_r/r)\n",
        "B1 = (1/2)*(d_vp/vp)-4*((vs/vp)**2)*(d_vs/vs)-2*((vs/vp)**2)*(d_r/r)\n",
        "C1 = (1/2)*(d_vp/vp)\n",
        "\n",
        "x1 = np.arange(0,np.radians(50),0.1)\n",
        "y1_wet = A1+B1*np.sin(x1)**2+C1*np.tan(x1)**2*np.sin(x1)**2\n",
        "\n",
        "plt.plot(x1,y1_wet, 'r-o', label='Top Model AK R(θ)')\n",
        "plt.plot(x1,-y1_wet, 'r-s', label='Base Model AK R(θ)')\n",
        "\n",
        "#Perhitungan Aki Richard R(0)-C\n",
        "A2 = (1/2)*(d_vp/vp + d_r/r)\n",
        "B2 = (1/2)*(d_vp/vp)-4*((vs/vp)**2)*(d_vs/vs)-2*((vs/vp)**2)*(d_r/r)\n",
        "\n",
        "\n",
        "x2 = np.arange(0,np.radians(60),0.1)\n",
        "y2_wet = A2+B2*np.sin(x2)**2\n",
        "\n",
        "plt.plot(x2,y2_wet, 'c-o', label='Top Model AK R(θ)-C')\n",
        "plt.plot(x2,-y2_wet, 'c-s', label='Base Model AK R(θ)-C')\n",
        "\n",
        "\n",
        "#Perhitungan Shuey\n",
        "A3 = (1/2)*(d_vp/vp + d_r/r)\n",
        "B3 = A2*(D-(2*(1+D))*(((1-(2*p))/(1-p)))) + (d_p/(1-p)**2)\n",
        "C3 = (1/2)*(d_vp/vp)\n",
        "\n",
        "x3 = np.arange(0,np.radians(60),0.1)\n",
        "y3_wet = A3+B3*np.sin(x3)**2+C3*np.tan(x3)**2*np.sin(x3)**2\n",
        "\n",
        "plt.plot(x3,y3_wet, 'g-o', label='Top Model Shuey R(θ)')\n",
        "plt.plot(x3,-y3_wet, 'g-s', label='Base Model Shuey R(θ)')\n",
        "\n",
        "#Perhitungan Shuey R(0)-C\n",
        "A4 = (1/2)*(d_vp/vp + d_r/r)\n",
        "B4 = A2*(D-(2*(1+D))*(((1-(2*p))/(1-p)))) + (d_p/(1-p)**2)\n",
        "\n",
        "x4 = np.arange(0,np.radians(60),0.1)\n",
        "y4_wet = A2+B2*np.sin(x4)**2\n",
        "\n",
        "plt.plot(x4,y4_wet, 'b-o', label='Top Model Shuey R(θ)-C')\n",
        "plt.plot(x4,-y4_wet, 'b-s',label='Base Model Shuey R(θ)-C')\n",
        "\n",
        "plt.grid()\n",
        "plt.xlabel('Angle(degrees)')\n",
        "plt.ylabel('Amplitude')\n",
        "plt.title('Wet Sand Model') #Ganti nama well yang diinginkan\n",
        "plt.legend(frameon=False, ncol=4, bbox_to_anchor=(0.5,-0.2), loc='upper center');\n",
        "\n",
        "xticks = [0, 0.2, 0.4, 0.6, 0.8, 1]\n",
        "long_marks = [0, 10, 20, 30, 40, 50]\n",
        "\n",
        "ax = plt.axes()\n",
        "ax.set_xticks(xticks)\n",
        "ax.set_xticklabels(long_marks)\n",
        "plt.axhline(0, color='black',linewidth=1)\n",
        "\n",
        "plt.show()"
      ],
      "metadata": {
        "colab": {
          "base_uri": "https://localhost:8080/",
          "height": 383
        },
        "id": "HS0g4zVPbU1M",
        "outputId": "bdce3833-2f61-48a6-ff61-5395cc823ad7"
      },
      "execution_count": null,
      "outputs": [
        {
          "output_type": "stream",
          "name": "stderr",
          "text": [
            "/usr/local/lib/python3.7/dist-packages/ipykernel_launcher.py:64: MatplotlibDeprecationWarning: Adding an axes using the same arguments as a previous axes currently reuses the earlier instance.  In a future version, a new instance will always be created and returned.  Meanwhile, this warning can be suppressed, and the future behavior ensured, by passing a unique label to each axes instance.\n"
          ]
        },
        {
          "output_type": "display_data",
          "data": {
            "text/plain": [
              "<Figure size 432x288 with 1 Axes>"
            ],
            "image/png": "[encoded data removed]"
          },
          "metadata": {
            "needs_background": "light"
          }
        }
      ]
    },
    {
      "cell_type": "markdown",
      "source": [
        "**Gas Sand Model**"
      ],
      "metadata": {
        "id": "LO0C34sWOXvf"
      }
    },
    {
      "cell_type": "code",
      "source": [
        "d_vp = d_vp_g\n",
        "vp = vp_g_0\n",
        "d_vs = d_vs_g\n",
        "vs = vs_g_0\n",
        "d_r = d_r_g\n",
        "r = r_g_0\n",
        "D = D_g\n",
        "p = p_g\n",
        "d_p = d_p_g\n",
        "\n",
        "#Perhitungan Aki Richard\n",
        "A1 = (1/2)*(d_vp/vp + d_r/r)\n",
        "B1 = (1/2)*(d_vp/vp)-4*((vs/vp)**2)*(d_vs/vs)-2*((vs/vp)**2)*(d_r/r)\n",
        "C1 = (1/2)*(d_vp/vp)\n",
        "\n",
        "x1 = np.arange(0,np.radians(60),0.1)\n",
        "y1_gas = A1+B1*np.sin(x1)**2+C1*np.tan(x1)**2*np.sin(x1)**2\n",
        "\n",
        "plt.plot(x1,y1_gas, 'r-o', label='Top Model AK R(θ)')\n",
        "plt.plot(x1,-y1_gas, 'r-s', label='Base Model AK R(θ)')\n",
        "\n",
        "#Perhitungan Aki Richard R(0)-C\n",
        "A2 = (1/2)*(d_vp/vp + d_r/r)\n",
        "B2 = (1/2)*(d_vp/vp)-4*((vs/vp)**2)*(d_vs/vs)-2*((vs/vp)**2)*(d_r/r)\n",
        "\n",
        "x2 = np.arange(0,np.radians(60),0.1)\n",
        "y2_gas = A2+B2*np.sin(x2)**2\n",
        "\n",
        "plt.plot(x2,y2_gas, 'c-o', label='Top Model AK R(θ)-C')\n",
        "plt.plot(x2,-y2_gas, 'c-s', label='Base Model R(θ)-C')\n",
        "\n",
        "#Perhitungan Shuey\n",
        "A3 = (1/2)*(d_vp/vp + d_r/r)\n",
        "B3 = A3*(D-(2*(1+D))*(((1-(2*p))/(1-p)))) + (d_p/(1-p)**2)\n",
        "C3 = (1/2)*(d_vp/vp)\n",
        "\n",
        "x3 = np.arange(0,np.radians(60),0.1)\n",
        "y3_gas = A3+B3*np.sin(x3)**2+C3*np.tan(x3)**2*np.sin(x3)**2\n",
        "\n",
        "plt.plot(x3,y3_gas, 'g-o', label='Top Model Shuey R(θ)')\n",
        "plt.plot(x3,-y3_gas, 'g-s', label='Base Model Shuey R(θ)')\n",
        "\n",
        "#Perhitungan Shuey R(0)-C\n",
        "A4 = (1/2)*(d_vp/vp + d_r/r)\n",
        "B4 = A4*(D-(2*(1+D))*(((1-(2*p))/(1-p)))) + (d_p/(1-p)**2)\n",
        "\n",
        "x4 = np.arange(0,np.radians(60),0.1)\n",
        "y4_gas = A4+B4*np.sin(x4)**2\n",
        "\n",
        "plt.plot(x4,y4_gas, 'b-o', label='Top Model Shuey R(θ)-C')\n",
        "plt.plot(x4,-y4_gas, 'b-s',label='Base Model Shuey R(θ)-C')\n",
        "\n",
        "plt.grid()\n",
        "plt.xlabel('Angle(degrees)')\n",
        "plt.ylabel('Amplitude')\n",
        "plt.title('Gas Sand Model') #Ganti nama well yang diinginkan\n",
        "plt.legend(frameon=False, ncol=3, bbox_to_anchor=(0.5,-0.2), loc='upper center');\n",
        "\n",
        "xticks = [0, 0.2, 0.4, 0.6, 0.8, 1]\n",
        "long_marks = [0, 10, 20, 30, 40, 50]\n",
        "\n",
        "ax = plt.axes()\n",
        "ax.set_xticks(xticks)\n",
        "ax.set_xticklabels(long_marks)\n",
        "plt.axhline(0, color='black',linewidth=1)\n",
        "\n",
        "plt.show()"
      ],
      "metadata": {
        "colab": {
          "base_uri": "https://localhost:8080/",
          "height": 398
        },
        "id": "G4gR6ISvhskE",
        "outputId": "58f8cec2-9944-4517-e630-e78de0250f70"
      },
      "execution_count": null,
      "outputs": [
        {
          "output_type": "stream",
          "name": "stderr",
          "text": [
            "/usr/local/lib/python3.7/dist-packages/ipykernel_launcher.py:62: MatplotlibDeprecationWarning: Adding an axes using the same arguments as a previous axes currently reuses the earlier instance.  In a future version, a new instance will always be created and returned.  Meanwhile, this warning can be suppressed, and the future behavior ensured, by passing a unique label to each axes instance.\n"
          ]
        },
        {
          "output_type": "display_data",
          "data": {
            "text/plain": [
              "<Figure size 432x288 with 1 Axes>"
            ],
            "image/png": "[encoded data removed]"
          },
          "metadata": {
            "needs_background": "light"
          }
        }
      ]
    }
  ]
}